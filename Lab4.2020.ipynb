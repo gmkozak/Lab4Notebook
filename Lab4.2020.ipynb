{
 "cells": [
  {
   "cell_type": "markdown",
   "metadata": {},
   "source": [
    "To do permuations in R, we can use a custom function that we set for variable n and k."
   ]
  },
  {
   "cell_type": "code",
   "execution_count": null,
   "metadata": {},
   "outputs": [],
   "source": [
    "library(gtools)\n",
    "perm = function(n,k){choose(n,k) * factorial(k)}"
   ]
  },
  {
   "cell_type": "code",
   "execution_count": null,
   "metadata": {},
   "outputs": [],
   "source": [
    "permutations.array=perm (5,3)\n",
    "permutations.array"
   ]
  },
  {
   "cell_type": "markdown",
   "metadata": {},
   "source": [
    "For combinations use \"choose\" or use \"combn\" to see them all"
   ]
  },
  {
   "cell_type": "code",
   "execution_count": null,
   "metadata": {},
   "outputs": [],
   "source": [
    "choose(10,2)"
   ]
  },
  {
   "cell_type": "code",
   "execution_count": null,
   "metadata": {},
   "outputs": [],
   "source": [
    "combn(seq(1,10), 2)"
   ]
  },
  {
   "cell_type": "markdown",
   "metadata": {},
   "source": [
    "For binomial probabilities use dbinom.\n",
    "For the probability of getting 1 head if you flip a coin 5 times:"
   ]
  },
  {
   "cell_type": "code",
   "execution_count": null,
   "metadata": {},
   "outputs": [],
   "source": [
    "dbinom(1, 5, 0.5) "
   ]
  },
  {
   "cell_type": "markdown",
   "metadata": {},
   "source": [
    "To plot the binomial probability distribution"
   ]
  },
  {
   "cell_type": "code",
   "execution_count": null,
   "metadata": {},
   "outputs": [],
   "source": [
    "binomial1=dbinom(0:5, 5, 0.5)  \n",
    "barplot(binomial1,ylab=\"P(X)\", xlab=\"X\", col=c(\"red\"))"
   ]
  },
  {
   "cell_type": "markdown",
   "metadata": {},
   "source": [
    "See how the distribution changes with a change in p from 0.5 to 0.2"
   ]
  },
  {
   "cell_type": "code",
   "execution_count": null,
   "metadata": {},
   "outputs": [],
   "source": [
    "binomial2=dbinom(0:5, 5, 0.2)  \n",
    "barplot(binomial2,ylab=\"P(X)\", xlab=\"X\", col=c(\"red\"))"
   ]
  },
  {
   "cell_type": "markdown",
   "metadata": {},
   "source": [
    "If we want cumulative probability of a binomial we use pbinom "
   ]
  },
  {
   "cell_type": "code",
   "execution_count": null,
   "metadata": {},
   "outputs": [],
   "source": [
    "pbinom(1,5, 0.2)"
   ]
  },
  {
   "cell_type": "code",
   "execution_count": null,
   "metadata": {},
   "outputs": [],
   "source": [
    "To see the culumative distribution and plot it:"
   ]
  },
  {
   "cell_type": "code",
   "execution_count": null,
   "metadata": {},
   "outputs": [],
   "source": [
    "pbinom(seq(0,5,by=1),5, 0.2)"
   ]
  },
  {
   "cell_type": "code",
   "execution_count": null,
   "metadata": {},
   "outputs": [],
   "source": [
    "binomialCumulative=pbinom(seq(0,5,by=1), 5, 0.2)\n",
    "library (mosaic)\n",
    "xyplot(binomialCumulative~seq(0,5,by=1),type = c(\"p\",\"l\"), xlab=\"X\", ylab=\"Cumulative P(X)\")"
   ]
  },
  {
   "cell_type": "markdown",
   "metadata": {},
   "source": [
    "To find the smallest value of x for which  P(X <= x) >= a use qbinom(a, k, p) \n",
    "For the smallest X for which P=>0.3"
   ]
  },
  {
   "cell_type": "code",
   "execution_count": null,
   "metadata": {},
   "outputs": [],
   "source": [
    "qbinom(0.3, 5, 0.5)"
   ]
  },
  {
   "cell_type": "markdown",
   "metadata": {},
   "source": [
    "To draw n random values of x, drawn from the binomial distribution\n",
    "rbinom(n, k, p) "
   ]
  },
  {
   "cell_type": "code",
   "execution_count": null,
   "metadata": {},
   "outputs": [],
   "source": [
    "rbinom(10, 5, 0.5)"
   ]
  },
  {
   "cell_type": "markdown",
   "metadata": {},
   "source": [
    "A binomial problem: Using the SaratogaHouses dataset, if your real estate agent takes you to 8 random houses in Saratoga, \n",
    "what is the probability that none of them have central air conditioning?\n",
    "First calculate the probability of air-conditioning:"
   ]
  },
  {
   "cell_type": "code",
   "execution_count": null,
   "metadata": {},
   "outputs": [],
   "source": [
    "table(SaratogaHouses$centralAir)"
   ]
  },
  {
   "cell_type": "code",
   "execution_count": null,
   "metadata": {},
   "outputs": [],
   "source": [
    "635/(635+1093)"
   ]
  },
  {
   "cell_type": "markdown",
   "metadata": {},
   "source": [
    "Then calculate the binomial probaility of x=0, k=8, p=0.37"
   ]
  },
  {
   "cell_type": "code",
   "execution_count": null,
   "metadata": {},
   "outputs": [],
   "source": [
    "dbinom(0, 8, .367) "
   ]
  },
  {
   "cell_type": "markdown",
   "metadata": {},
   "source": [
    "Poisson distribution is used when to predict the likelihood of a number x of rare events occurring within a certain space or time with average occurrence rate λ\n",
    "Probability = dpois(x,lambda) \n",
    "What is the probability that of seeing 1 butterfly per plot when the average rate is 3.1 per plot?"
   ]
  },
  {
   "cell_type": "code",
   "execution_count": null,
   "metadata": {},
   "outputs": [],
   "source": [
    "poisson1=dpois(1,3.1) \n",
    "poisson1"
   ]
  },
  {
   "cell_type": "markdown",
   "metadata": {},
   "source": [
    "We can plot the poisson probaility distribution from 0 to 10:"
   ]
  },
  {
   "cell_type": "code",
   "execution_count": null,
   "metadata": {},
   "outputs": [],
   "source": [
    "poisson2=dpois(seq(0,10,by=1),3.1)\n",
    "barplot(poisson2,ylab=\"P(X)\", xlab=\"X\", col=c(\"red\"))"
   ]
  },
  {
   "cell_type": "markdown",
   "metadata": {},
   "source": [
    "Other useful functions\n",
    "▶ ppois(x,lambda) cumulative probability P (X ≤ x)\n",
    "▶ qpois(a,lambda) smallest value of x for which P (X ≤ x) ≥ a\n",
    "▶ rpois(n,lambda) n random values of x drawn from the Poisson  distribution\n",
    "\n",
    "Cumulative probability of 2 or less butterflies:"
   ]
  },
  {
   "cell_type": "code",
   "execution_count": null,
   "metadata": {},
   "outputs": [],
   "source": [
    "ppois(2,3.1)"
   ]
  },
  {
   "cell_type": "markdown",
   "metadata": {},
   "source": [
    "Chi-square goodness of fit test\n",
    "\n",
    "chisq.test(observed, p=expected)\n",
    "\n",
    "Using the SaratogaHouses example, 100 real estate agents were surveyed. They each showed two houses to a client. 35 said that both had no air-conditioning, 55 said at least one house had air-conditioning, 10 said both had air-conditioning.\n",
    "Are they showing houses at random?"
   ]
  },
  {
   "cell_type": "code",
   "execution_count": null,
   "metadata": {},
   "outputs": [],
   "source": [
    "obs1=c(35,55,10)\n",
    "obs1"
   ]
  },
  {
   "cell_type": "code",
   "execution_count": null,
   "metadata": {},
   "outputs": [],
   "source": [
    "p1=dbinom(seq(0,2, by=1), 2, .367) \n",
    "p1"
   ]
  },
  {
   "cell_type": "code",
   "execution_count": null,
   "metadata": {},
   "outputs": [],
   "source": [
    "chisq.test(obs1, p=p1)"
   ]
  },
  {
   "cell_type": "markdown",
   "metadata": {},
   "source": [
    "We can conclude that they are showing houses at random because it matches the null hypothesis of a binomial distribution."
   ]
  },
  {
   "cell_type": "markdown",
   "metadata": {},
   "source": [
    "Chi-square test for independence\n",
    "Are air-conditioning and fuel source independent?"
   ]
  },
  {
   "cell_type": "code",
   "execution_count": null,
   "metadata": {},
   "outputs": [],
   "source": [
    "freq_air_fuel= table(SaratogaHouses$centralAir,SaratogaHouses$fuel)\n",
    "freq_air_fuel"
   ]
  },
  {
   "cell_type": "code",
   "execution_count": null,
   "metadata": {},
   "outputs": [],
   "source": [
    "chisq.test(freq_air_fuel)"
   ]
  },
  {
   "cell_type": "markdown",
   "metadata": {},
   "source": [
    "We can conclude that they are not because p<0.05, we can reject the null hypothesis."
   ]
  }
 ],
 "metadata": {
  "kernelspec": {
   "display_name": "R",
   "language": "R",
   "name": "ir"
  },
  "language_info": {
   "codemirror_mode": "r",
   "file_extension": ".r",
   "mimetype": "text/x-r-source",
   "name": "R",
   "pygments_lexer": "r",
   "version": "3.5.1"
  }
 },
 "nbformat": 4,
 "nbformat_minor": 2
}
